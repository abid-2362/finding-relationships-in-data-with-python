{
 "cells": [
  {
   "cell_type": "markdown",
   "source": [
    "# Visualizing Relationships With Simple Charts (Altair)\n",
    "\n",
    "**Abid Ali**\n",
    "\n",
    "Email: [abdsoftfsd@gmail.com](mailto:abdsoftfsd@gmail.com)\n",
    "\n",
    "Skype: abd.soft"
   ],
   "metadata": {
    "collapsed": false,
    "pycharm": {
     "name": "#%% md\n"
    }
   }
  },
  {
   "cell_type": "code",
   "execution_count": 25,
   "outputs": [
    {
     "data": {
      "text/plain": "RendererRegistry.enable('altair_viewer')"
     },
     "execution_count": 25,
     "metadata": {},
     "output_type": "execute_result"
    }
   ],
   "source": [
    "import pandas as pd\n",
    "import altair as alt\n",
    "from vega_datasets import data\n",
    "\n",
    "alt.renderers.enable('notebook')\n",
    "alt.renderers.enable('altair_viewer')"
   ],
   "metadata": {
    "collapsed": false,
    "pycharm": {
     "name": "#%%\n"
    }
   }
  },
  {
   "cell_type": "code",
   "execution_count": 26,
   "outputs": [],
   "source": [
    "movies_data = data.movies()"
   ],
   "metadata": {
    "collapsed": false,
    "pycharm": {
     "name": "#%%\n"
    }
   }
  },
  {
   "cell_type": "code",
   "execution_count": 27,
   "outputs": [
    {
     "data": {
      "text/plain": "                        Title   US_Gross  Worldwide_Gross  US_DVD_Sales  \\\n0              The Land Girls   146083.0         146083.0           NaN   \n1      First Love, Last Rites    10876.0          10876.0           NaN   \n2  I Married a Strange Person   203134.0         203134.0           NaN   \n3        Let's Talk About Sex   373615.0         373615.0           NaN   \n4                        Slam  1009819.0        1087521.0           NaN   \n\n   Production_Budget Release_Date MPAA_Rating  Running_Time_min Distributor  \\\n0          8000000.0  Jun 12 1998           R               NaN    Gramercy   \n1           300000.0  Aug 07 1998           R               NaN      Strand   \n2           250000.0  Aug 28 1998        None               NaN   Lionsgate   \n3           300000.0  Sep 11 1998        None               NaN   Fine Line   \n4          1000000.0  Oct 09 1998           R               NaN     Trimark   \n\n                Source Major_Genre         Creative_Type Director  \\\n0                 None        None                  None     None   \n1                 None       Drama                  None     None   \n2                 None      Comedy                  None     None   \n3                 None      Comedy                  None     None   \n4  Original Screenplay       Drama  Contemporary Fiction     None   \n\n   Rotten_Tomatoes_Rating  IMDB_Rating  IMDB_Votes  \n0                     NaN          6.1      1071.0  \n1                     NaN          6.9       207.0  \n2                     NaN          6.8       865.0  \n3                    13.0          NaN         NaN  \n4                    62.0          3.4       165.0  ",
      "text/html": "<div>\n<style scoped>\n    .dataframe tbody tr th:only-of-type {\n        vertical-align: middle;\n    }\n\n    .dataframe tbody tr th {\n        vertical-align: top;\n    }\n\n    .dataframe thead th {\n        text-align: right;\n    }\n</style>\n<table border=\"1\" class=\"dataframe\">\n  <thead>\n    <tr style=\"text-align: right;\">\n      <th></th>\n      <th>Title</th>\n      <th>US_Gross</th>\n      <th>Worldwide_Gross</th>\n      <th>US_DVD_Sales</th>\n      <th>Production_Budget</th>\n      <th>Release_Date</th>\n      <th>MPAA_Rating</th>\n      <th>Running_Time_min</th>\n      <th>Distributor</th>\n      <th>Source</th>\n      <th>Major_Genre</th>\n      <th>Creative_Type</th>\n      <th>Director</th>\n      <th>Rotten_Tomatoes_Rating</th>\n      <th>IMDB_Rating</th>\n      <th>IMDB_Votes</th>\n    </tr>\n  </thead>\n  <tbody>\n    <tr>\n      <th>0</th>\n      <td>The Land Girls</td>\n      <td>146083.0</td>\n      <td>146083.0</td>\n      <td>NaN</td>\n      <td>8000000.0</td>\n      <td>Jun 12 1998</td>\n      <td>R</td>\n      <td>NaN</td>\n      <td>Gramercy</td>\n      <td>None</td>\n      <td>None</td>\n      <td>None</td>\n      <td>None</td>\n      <td>NaN</td>\n      <td>6.1</td>\n      <td>1071.0</td>\n    </tr>\n    <tr>\n      <th>1</th>\n      <td>First Love, Last Rites</td>\n      <td>10876.0</td>\n      <td>10876.0</td>\n      <td>NaN</td>\n      <td>300000.0</td>\n      <td>Aug 07 1998</td>\n      <td>R</td>\n      <td>NaN</td>\n      <td>Strand</td>\n      <td>None</td>\n      <td>Drama</td>\n      <td>None</td>\n      <td>None</td>\n      <td>NaN</td>\n      <td>6.9</td>\n      <td>207.0</td>\n    </tr>\n    <tr>\n      <th>2</th>\n      <td>I Married a Strange Person</td>\n      <td>203134.0</td>\n      <td>203134.0</td>\n      <td>NaN</td>\n      <td>250000.0</td>\n      <td>Aug 28 1998</td>\n      <td>None</td>\n      <td>NaN</td>\n      <td>Lionsgate</td>\n      <td>None</td>\n      <td>Comedy</td>\n      <td>None</td>\n      <td>None</td>\n      <td>NaN</td>\n      <td>6.8</td>\n      <td>865.0</td>\n    </tr>\n    <tr>\n      <th>3</th>\n      <td>Let's Talk About Sex</td>\n      <td>373615.0</td>\n      <td>373615.0</td>\n      <td>NaN</td>\n      <td>300000.0</td>\n      <td>Sep 11 1998</td>\n      <td>None</td>\n      <td>NaN</td>\n      <td>Fine Line</td>\n      <td>None</td>\n      <td>Comedy</td>\n      <td>None</td>\n      <td>None</td>\n      <td>13.0</td>\n      <td>NaN</td>\n      <td>NaN</td>\n    </tr>\n    <tr>\n      <th>4</th>\n      <td>Slam</td>\n      <td>1009819.0</td>\n      <td>1087521.0</td>\n      <td>NaN</td>\n      <td>1000000.0</td>\n      <td>Oct 09 1998</td>\n      <td>R</td>\n      <td>NaN</td>\n      <td>Trimark</td>\n      <td>Original Screenplay</td>\n      <td>Drama</td>\n      <td>Contemporary Fiction</td>\n      <td>None</td>\n      <td>62.0</td>\n      <td>3.4</td>\n      <td>165.0</td>\n    </tr>\n  </tbody>\n</table>\n</div>"
     },
     "execution_count": 27,
     "metadata": {},
     "output_type": "execute_result"
    }
   ],
   "source": [
    "movies_data.head()\n",
    "# alt.Chart(unemployment_data, height=400, width=600).mark_boxplot(extent=500).encode(x='year:O', y='count:Q').properties(title='US Unemployment')"
   ],
   "metadata": {
    "collapsed": false,
    "pycharm": {
     "name": "#%%\n"
    }
   }
  },
  {
   "cell_type": "code",
   "execution_count": 28,
   "outputs": [
    {
     "data": {
      "text/plain": "(3201, 16)"
     },
     "execution_count": 28,
     "metadata": {},
     "output_type": "execute_result"
    }
   ],
   "source": [
    "movies_data.shape\n"
   ],
   "metadata": {
    "collapsed": false,
    "pycharm": {
     "name": "#%%\n"
    }
   }
  },
  {
   "cell_type": "code",
   "execution_count": 29,
   "outputs": [
    {
     "data": {
      "text/plain": "Title                        1\nUS_Gross                     7\nWorldwide_Gross              7\nUS_DVD_Sales              2637\nProduction_Budget            1\nRelease_Date                 0\nMPAA_Rating                605\nRunning_Time_min          1992\nDistributor                232\nSource                     365\nMajor_Genre                275\nCreative_Type              446\nDirector                  1331\nRotten_Tomatoes_Rating     880\nIMDB_Rating                213\nIMDB_Votes                 213\ndtype: int64"
     },
     "execution_count": 29,
     "metadata": {},
     "output_type": "execute_result"
    }
   ],
   "source": [
    "movies_data.isnull().sum()\n"
   ],
   "metadata": {
    "collapsed": false,
    "pycharm": {
     "name": "#%%\n"
    }
   }
  },
  {
   "cell_type": "code",
   "execution_count": 30,
   "outputs": [
    {
     "data": {
      "text/plain": "(174, 16)"
     },
     "execution_count": 30,
     "metadata": {},
     "output_type": "execute_result"
    }
   ],
   "source": [
    "# For simplicity to observer charts, lets remove na values\n",
    "movies_data.dropna(inplace=True)\n",
    "movies_data.shape\n"
   ],
   "metadata": {
    "collapsed": false,
    "pycharm": {
     "name": "#%%\n"
    }
   }
  },
  {
   "cell_type": "code",
   "execution_count": 31,
   "outputs": [
    {
     "data": {
      "text/plain": "Displaying chart at http://localhost:57689/",
      "text/html": "Displaying chart at <a href='http://localhost:57689/' target='_blank'>http://localhost:57689/</a>"
     },
     "execution_count": 31,
     "metadata": {},
     "output_type": "execute_result"
    }
   ],
   "source": [
    "alt.Chart(movies_data, height=400, width=600)\\\n",
    "    .mark_boxplot(color='blue')\\\n",
    "    .encode(y='Worldwide_Gross:Q')\\\n",
    "    .properties(title='Movies')\n"
   ],
   "metadata": {
    "collapsed": false,
    "pycharm": {
     "name": "#%%\n"
    }
   }
  },
  {
   "cell_type": "code",
   "execution_count": 32,
   "outputs": [
    {
     "data": {
      "text/plain": "Displaying chart at http://localhost:57689/",
      "text/html": "Displaying chart at <a href='http://localhost:57689/' target='_blank'>http://localhost:57689/</a>"
     },
     "execution_count": 32,
     "metadata": {},
     "output_type": "execute_result"
    }
   ],
   "source": [
    "alt.Chart(movies_data, height=400, width=600)\\\n",
    "    .mark_point(color='darkcyan')\\\n",
    "    .encode(x='Production_Budget',\n",
    "            y='Worldwide_Gross')\\\n",
    "    .properties(title='Production Budget vs. Worldwide Gross')\n"
   ],
   "metadata": {
    "collapsed": false,
    "pycharm": {
     "name": "#%%\n"
    }
   }
  },
  {
   "cell_type": "code",
   "execution_count": 33,
   "outputs": [
    {
     "data": {
      "text/plain": "Displaying chart at http://localhost:57689/",
      "text/html": "Displaying chart at <a href='http://localhost:57689/' target='_blank'>http://localhost:57689/</a>"
     },
     "execution_count": 33,
     "metadata": {},
     "output_type": "execute_result"
    }
   ],
   "source": [
    "alt.Chart(movies_data, height=400, width=600)\\\n",
    "    .mark_bar(size=20)\\\n",
    "    .encode(x='Major_Genre:O', y='Worldwide_Gross:Q',\n",
    "            color='Major_Genre'\n",
    "            )\\\n",
    "    .properties(title='Worldwide Gross for different Genres')"
   ],
   "metadata": {
    "collapsed": false,
    "pycharm": {
     "name": "#%%\n"
    }
   }
  },
  {
   "cell_type": "code",
   "execution_count": 34,
   "outputs": [
    {
     "data": {
      "text/plain": "array(['Action', 'Western', 'Thriller/Suspense', 'Drama', 'Comedy',\n       'Adventure', 'Horror', 'Musical', 'Romantic Comedy',\n       'Black Comedy', 'Documentary'], dtype=object)"
     },
     "execution_count": 34,
     "metadata": {},
     "output_type": "execute_result"
    }
   ],
   "source": [
    "movies_data['Major_Genre'].unique()\n"
   ],
   "metadata": {
    "collapsed": false,
    "pycharm": {
     "name": "#%%\n"
    }
   }
  },
  {
   "cell_type": "code",
   "execution_count": 35,
   "outputs": [
    {
     "data": {
      "text/plain": "61.0"
     },
     "execution_count": 35,
     "metadata": {},
     "output_type": "execute_result"
    }
   ],
   "source": [
    "med_rating = movies_data['Rotten_Tomatoes_Rating'].median()\n",
    "med_rating\n"
   ],
   "metadata": {
    "collapsed": false,
    "pycharm": {
     "name": "#%%\n"
    }
   }
  },
  {
   "cell_type": "code",
   "execution_count": 37,
   "outputs": [
    {
     "data": {
      "text/plain": "             Title     US_Gross  Worldwide_Gross  US_DVD_Sales  \\\n1064     12 Rounds   12234694.0       18184083.0     8283859.0   \n1074          2012  166112167.0      766812167.0    50736023.0   \n1090           300  210614939.0      456068181.0   261252400.0   \n1095  3:10 to Yuma   53606916.0       69791889.0    51359371.0   \n1107    88 Minutes   16930884.0       32955399.0    11385055.0   \n\n      Production_Budget Release_Date MPAA_Rating  Running_Time_min  \\\n1064         20000000.0  Mar 27 2009       PG-13             108.0   \n1074        200000000.0  Nov 13 2009       PG-13             158.0   \n1090         60000000.0  Mar 09 2007           R             117.0   \n1095         48000000.0  Sep 02 2007           R             117.0   \n1107         30000000.0  Apr 18 2008           R             106.0   \n\n           Distributor                        Source        Major_Genre  \\\n1064  20th Century Fox           Original Screenplay             Action   \n1074     Sony Pictures           Original Screenplay             Action   \n1090      Warner Bros.  Based on Comic/Graphic Novel             Action   \n1095         Lionsgate                        Remake            Western   \n1107     Sony Pictures           Original Screenplay  Thriller/Suspense   \n\n             Creative_Type         Director  Rotten_Tomatoes_Rating  \\\n1064  Contemporary Fiction     Renny Harlin                    28.0   \n1074       Science Fiction  Roland Emmerich                    39.0   \n1090    Historical Fiction      Zack Snyder                    60.0   \n1095    Historical Fiction    James Mangold                    89.0   \n1107  Contemporary Fiction        Jon Avnet                     5.0   \n\n      IMDB_Rating  IMDB_Votes  above_average  \n1064          5.4      8914.0          False  \n1074          6.2       396.0          False  \n1090          7.8    235508.0          False  \n1095          7.9     98355.0           True  \n1107          5.9     31205.0          False  ",
      "text/html": "<div>\n<style scoped>\n    .dataframe tbody tr th:only-of-type {\n        vertical-align: middle;\n    }\n\n    .dataframe tbody tr th {\n        vertical-align: top;\n    }\n\n    .dataframe thead th {\n        text-align: right;\n    }\n</style>\n<table border=\"1\" class=\"dataframe\">\n  <thead>\n    <tr style=\"text-align: right;\">\n      <th></th>\n      <th>Title</th>\n      <th>US_Gross</th>\n      <th>Worldwide_Gross</th>\n      <th>US_DVD_Sales</th>\n      <th>Production_Budget</th>\n      <th>Release_Date</th>\n      <th>MPAA_Rating</th>\n      <th>Running_Time_min</th>\n      <th>Distributor</th>\n      <th>Source</th>\n      <th>Major_Genre</th>\n      <th>Creative_Type</th>\n      <th>Director</th>\n      <th>Rotten_Tomatoes_Rating</th>\n      <th>IMDB_Rating</th>\n      <th>IMDB_Votes</th>\n      <th>above_average</th>\n    </tr>\n  </thead>\n  <tbody>\n    <tr>\n      <th>1064</th>\n      <td>12 Rounds</td>\n      <td>12234694.0</td>\n      <td>18184083.0</td>\n      <td>8283859.0</td>\n      <td>20000000.0</td>\n      <td>Mar 27 2009</td>\n      <td>PG-13</td>\n      <td>108.0</td>\n      <td>20th Century Fox</td>\n      <td>Original Screenplay</td>\n      <td>Action</td>\n      <td>Contemporary Fiction</td>\n      <td>Renny Harlin</td>\n      <td>28.0</td>\n      <td>5.4</td>\n      <td>8914.0</td>\n      <td>False</td>\n    </tr>\n    <tr>\n      <th>1074</th>\n      <td>2012</td>\n      <td>166112167.0</td>\n      <td>766812167.0</td>\n      <td>50736023.0</td>\n      <td>200000000.0</td>\n      <td>Nov 13 2009</td>\n      <td>PG-13</td>\n      <td>158.0</td>\n      <td>Sony Pictures</td>\n      <td>Original Screenplay</td>\n      <td>Action</td>\n      <td>Science Fiction</td>\n      <td>Roland Emmerich</td>\n      <td>39.0</td>\n      <td>6.2</td>\n      <td>396.0</td>\n      <td>False</td>\n    </tr>\n    <tr>\n      <th>1090</th>\n      <td>300</td>\n      <td>210614939.0</td>\n      <td>456068181.0</td>\n      <td>261252400.0</td>\n      <td>60000000.0</td>\n      <td>Mar 09 2007</td>\n      <td>R</td>\n      <td>117.0</td>\n      <td>Warner Bros.</td>\n      <td>Based on Comic/Graphic Novel</td>\n      <td>Action</td>\n      <td>Historical Fiction</td>\n      <td>Zack Snyder</td>\n      <td>60.0</td>\n      <td>7.8</td>\n      <td>235508.0</td>\n      <td>False</td>\n    </tr>\n    <tr>\n      <th>1095</th>\n      <td>3:10 to Yuma</td>\n      <td>53606916.0</td>\n      <td>69791889.0</td>\n      <td>51359371.0</td>\n      <td>48000000.0</td>\n      <td>Sep 02 2007</td>\n      <td>R</td>\n      <td>117.0</td>\n      <td>Lionsgate</td>\n      <td>Remake</td>\n      <td>Western</td>\n      <td>Historical Fiction</td>\n      <td>James Mangold</td>\n      <td>89.0</td>\n      <td>7.9</td>\n      <td>98355.0</td>\n      <td>True</td>\n    </tr>\n    <tr>\n      <th>1107</th>\n      <td>88 Minutes</td>\n      <td>16930884.0</td>\n      <td>32955399.0</td>\n      <td>11385055.0</td>\n      <td>30000000.0</td>\n      <td>Apr 18 2008</td>\n      <td>R</td>\n      <td>106.0</td>\n      <td>Sony Pictures</td>\n      <td>Original Screenplay</td>\n      <td>Thriller/Suspense</td>\n      <td>Contemporary Fiction</td>\n      <td>Jon Avnet</td>\n      <td>5.0</td>\n      <td>5.9</td>\n      <td>31205.0</td>\n      <td>False</td>\n    </tr>\n  </tbody>\n</table>\n</div>"
     },
     "execution_count": 37,
     "metadata": {},
     "output_type": "execute_result"
    }
   ],
   "source": [
    "movies_data['above_average'] = (movies_data['Rotten_Tomatoes_Rating'] - med_rating) > 0\n",
    "movies_data.head()"
   ],
   "metadata": {
    "collapsed": false,
    "pycharm": {
     "name": "#%%\n"
    }
   }
  },
  {
   "cell_type": "code",
   "execution_count": 38,
   "outputs": [
    {
     "data": {
      "text/plain": "Displaying chart at http://localhost:57689/",
      "text/html": "Displaying chart at <a href='http://localhost:57689/' target='_blank'>http://localhost:57689/</a>"
     },
     "execution_count": 38,
     "metadata": {},
     "output_type": "execute_result"
    }
   ],
   "source": [
    "alt.Chart(movies_data, height=400, width=600)\\\n",
    "    .mark_point(color='darkcyan')\\\n",
    "    .encode(x='Production_Budget', y='Worldwide_Gross',\n",
    "            color='above_average'\n",
    "            )\\\n",
    "    .properties(title='Production Budget vs. Worldwide Gross')\n"
   ],
   "metadata": {
    "collapsed": false,
    "pycharm": {
     "name": "#%%\n"
    }
   }
  },
  {
   "cell_type": "code",
   "execution_count": 43,
   "outputs": [
    {
     "data": {
      "text/plain": "Displaying chart at http://localhost:57689/",
      "text/html": "Displaying chart at <a href='http://localhost:57689/' target='_blank'>http://localhost:57689/</a>"
     },
     "execution_count": 43,
     "metadata": {},
     "output_type": "execute_result"
    }
   ],
   "source": [
    "alt.Chart(movies_data, height=400, width=140)\\\n",
    "    .mark_bar()\\\n",
    "    .encode(x='above_average:O',\n",
    "            y='Worldwide_Gross:Q',\n",
    "            color='above_average:N',\n",
    "            column='MPAA_Rating:N')"
   ],
   "metadata": {
    "collapsed": false,
    "pycharm": {
     "name": "#%%\n"
    }
   }
  },
  {
   "cell_type": "code",
   "execution_count": 46,
   "outputs": [
    {
     "data": {
      "text/plain": "array(['PG-13', 'R', 'PG', 'G'], dtype=object)"
     },
     "execution_count": 46,
     "metadata": {},
     "output_type": "execute_result"
    }
   ],
   "source": [
    "movies_data['MPAA_Rating'].unique()\n"
   ],
   "metadata": {
    "collapsed": false,
    "pycharm": {
     "name": "#%%\n"
    }
   }
  },
  {
   "cell_type": "code",
   "execution_count": 48,
   "outputs": [
    {
     "data": {
      "text/plain": "Displaying chart at http://localhost:57689/",
      "text/html": "Displaying chart at <a href='http://localhost:57689/' target='_blank'>http://localhost:57689/</a>"
     },
     "execution_count": 48,
     "metadata": {},
     "output_type": "execute_result"
    }
   ],
   "source": [
    "alt.Chart(movies_data, height=400, width=600).mark_bar()\\\n",
    "    .encode(x='US_Gross',\n",
    "            y='MPAA_Rating',\n",
    "            color='MPAA_Rating',\n",
    "            order=alt.Order('MPAA_Rating', sort='ascending'))\\\n",
    "    .properties(title='US Gross vs MPAA_Rating')\n"
   ],
   "metadata": {
    "collapsed": false,
    "pycharm": {
     "name": "#%%\n"
    }
   }
  }
 ],
 "metadata": {
  "kernelspec": {
   "display_name": "Python 3",
   "language": "python",
   "name": "python3"
  },
  "language_info": {
   "codemirror_mode": {
    "name": "ipython",
    "version": 2
   },
   "file_extension": ".py",
   "mimetype": "text/x-python",
   "name": "python",
   "nbconvert_exporter": "python",
   "pygments_lexer": "ipython2",
   "version": "2.7.6"
  }
 },
 "nbformat": 4,
 "nbformat_minor": 0
}