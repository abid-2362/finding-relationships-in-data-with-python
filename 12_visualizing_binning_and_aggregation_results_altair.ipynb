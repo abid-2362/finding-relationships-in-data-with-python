{
 "cells": [
  {
   "cell_type": "markdown",
   "source": [
    "# Visualizing Binning and Aggregation Results (Altair)\n",
    "\n",
    "**Abid Ali**\n",
    "\n",
    "Email: [abdsoftfsd@gmail.com](mailto:abdsoftfsd@gmail.com)\n",
    "\n",
    "Skype: abd.soft\n"
   ],
   "metadata": {
    "collapsed": false,
    "pycharm": {
     "name": "#%% md\n"
    }
   }
  },
  {
   "cell_type": "code",
   "execution_count": 1,
   "outputs": [
    {
     "data": {
      "text/plain": "RendererRegistry.enable('altair_viewer')"
     },
     "execution_count": 1,
     "metadata": {},
     "output_type": "execute_result"
    }
   ],
   "source": [
    "import pandas as pd\n",
    "import altair as alt\n",
    "from vega_datasets import data\n",
    "\n",
    "alt.renderers.enable('notebook')\n",
    "alt.renderers.enable('altair_viewer')\n"
   ],
   "metadata": {
    "collapsed": false,
    "pycharm": {
     "name": "#%%\n"
    }
   }
  },
  {
   "cell_type": "code",
   "execution_count": 2,
   "outputs": [],
   "source": [
    "movies_data = data.movies()\n"
   ],
   "metadata": {
    "collapsed": false,
    "pycharm": {
     "name": "#%%\n"
    }
   }
  },
  {
   "cell_type": "code",
   "execution_count": 4,
   "outputs": [
    {
     "data": {
      "text/plain": "                                                  Title     US_Gross  \\\n944   The Incredibly True Adventure of Two Girls in ...    2210408.0   \n1355                               The Bourne Ultimatum  227471070.0   \n\n      Worldwide_Gross  US_DVD_Sales  Production_Budget Release_Date  \\\n944         2477155.0           NaN           250000.0  Jun 16 1995   \n1355      442161562.0   123314592.0        130000000.0  Aug 03 2007   \n\n     MPAA_Rating  Running_Time_min Distributor                     Source  \\\n944            R               NaN   Fine Line        Original Screenplay   \n1355       PG-13             114.0   Universal  Based on Book/Short Story   \n\n     Major_Genre         Creative_Type         Director  \\\n944        Drama  Contemporary Fiction             None   \n1355      Action  Contemporary Fiction  Paul Greengrass   \n\n      Rotten_Tomatoes_Rating  IMDB_Rating  IMDB_Votes  \n944                      NaN          5.8      1795.0  \n1355                    93.0          8.2    146025.0  ",
      "text/html": "<div>\n<style scoped>\n    .dataframe tbody tr th:only-of-type {\n        vertical-align: middle;\n    }\n\n    .dataframe tbody tr th {\n        vertical-align: top;\n    }\n\n    .dataframe thead th {\n        text-align: right;\n    }\n</style>\n<table border=\"1\" class=\"dataframe\">\n  <thead>\n    <tr style=\"text-align: right;\">\n      <th></th>\n      <th>Title</th>\n      <th>US_Gross</th>\n      <th>Worldwide_Gross</th>\n      <th>US_DVD_Sales</th>\n      <th>Production_Budget</th>\n      <th>Release_Date</th>\n      <th>MPAA_Rating</th>\n      <th>Running_Time_min</th>\n      <th>Distributor</th>\n      <th>Source</th>\n      <th>Major_Genre</th>\n      <th>Creative_Type</th>\n      <th>Director</th>\n      <th>Rotten_Tomatoes_Rating</th>\n      <th>IMDB_Rating</th>\n      <th>IMDB_Votes</th>\n    </tr>\n  </thead>\n  <tbody>\n    <tr>\n      <th>944</th>\n      <td>The Incredibly True Adventure of Two Girls in ...</td>\n      <td>2210408.0</td>\n      <td>2477155.0</td>\n      <td>NaN</td>\n      <td>250000.0</td>\n      <td>Jun 16 1995</td>\n      <td>R</td>\n      <td>NaN</td>\n      <td>Fine Line</td>\n      <td>Original Screenplay</td>\n      <td>Drama</td>\n      <td>Contemporary Fiction</td>\n      <td>None</td>\n      <td>NaN</td>\n      <td>5.8</td>\n      <td>1795.0</td>\n    </tr>\n    <tr>\n      <th>1355</th>\n      <td>The Bourne Ultimatum</td>\n      <td>227471070.0</td>\n      <td>442161562.0</td>\n      <td>123314592.0</td>\n      <td>130000000.0</td>\n      <td>Aug 03 2007</td>\n      <td>PG-13</td>\n      <td>114.0</td>\n      <td>Universal</td>\n      <td>Based on Book/Short Story</td>\n      <td>Action</td>\n      <td>Contemporary Fiction</td>\n      <td>Paul Greengrass</td>\n      <td>93.0</td>\n      <td>8.2</td>\n      <td>146025.0</td>\n    </tr>\n  </tbody>\n</table>\n</div>"
     },
     "execution_count": 4,
     "metadata": {},
     "output_type": "execute_result"
    }
   ],
   "source": [
    "movies_data.sample(2)\n"
   ],
   "metadata": {
    "collapsed": false,
    "pycharm": {
     "name": "#%%\n"
    }
   }
  },
  {
   "cell_type": "code",
   "execution_count": 5,
   "outputs": [],
   "source": [
    "movies_data.dropna(inplace=True)\n"
   ],
   "metadata": {
    "collapsed": false,
    "pycharm": {
     "name": "#%%\n"
    }
   }
  },
  {
   "cell_type": "code",
   "execution_count": 6,
   "outputs": [
    {
     "data": {
      "text/plain": "Displaying chart at http://localhost:58053/",
      "text/html": "Displaying chart at <a href='http://localhost:58053/' target='_blank'>http://localhost:58053/</a>"
     },
     "execution_count": 6,
     "metadata": {},
     "output_type": "execute_result"
    }
   ],
   "source": [
    "alt.Chart(movies_data, height=400, width=600).mark_bar()\\\n",
    "    .encode(alt.X('IMDB_Rating', bin=True),\n",
    "            y='count()',\n",
    "            color='count()')\n"
   ],
   "metadata": {
    "collapsed": false,
    "pycharm": {
     "name": "#%%\n"
    }
   }
  },
  {
   "cell_type": "code",
   "execution_count": 9,
   "outputs": [
    {
     "data": {
      "text/plain": "Displaying chart at http://localhost:58053/",
      "text/html": "Displaying chart at <a href='http://localhost:58053/' target='_blank'>http://localhost:58053/</a>"
     },
     "execution_count": 9,
     "metadata": {},
     "output_type": "execute_result"
    }
   ],
   "source": [
    "alt.Chart(movies_data, height=400, width=600).mark_bar()\\\n",
    "    .encode(alt.X('Rotten_Tomatoes_Rating', bin=True),\n",
    "            y='count()',\n",
    "            color='count()')\n"
   ],
   "metadata": {
    "collapsed": false,
    "pycharm": {
     "name": "#%%\n"
    }
   }
  },
  {
   "cell_type": "code",
   "execution_count": 10,
   "outputs": [
    {
     "data": {
      "text/plain": "Displaying chart at http://localhost:58053/",
      "text/html": "Displaying chart at <a href='http://localhost:58053/' target='_blank'>http://localhost:58053/</a>"
     },
     "execution_count": 10,
     "metadata": {},
     "output_type": "execute_result"
    }
   ],
   "source": [
    "alt.Chart(movies_data, height=400, width=600)\\\n",
    "    .mark_bar()\\\n",
    "    .encode(alt.X('Running_Time_min', bin=True),\n",
    "            alt.Y('IMDB_Rating', bin=True),\n",
    "            color='count()')\n"
   ],
   "metadata": {
    "collapsed": false,
    "pycharm": {
     "name": "#%%\n"
    }
   }
  },
  {
   "cell_type": "code",
   "execution_count": 25,
   "outputs": [
    {
     "data": {
      "text/plain": "Displaying chart at http://localhost:58053/",
      "text/html": "Displaying chart at <a href='http://localhost:58053/' target='_blank'>http://localhost:58053/</a>"
     },
     "execution_count": 25,
     "metadata": {},
     "output_type": "execute_result"
    }
   ],
   "source": [
    "alt.Chart(movies_data, height=400, width=600)\\\n",
    "    .mark_circle()\\\n",
    "    .encode(alt.X('Running_Time_min', bin=True),\n",
    "            alt.Y('IMDB_Rating', bin=True),\n",
    "            size='IMDB_Rating',\n",
    "            color='average(Rotten_Tomatoes_Rating)')"
   ],
   "metadata": {
    "collapsed": false,
    "pycharm": {
     "name": "#%%\n"
    }
   }
  },
  {
   "cell_type": "code",
   "execution_count": 28,
   "outputs": [
    {
     "data": {
      "text/plain": "Displaying chart at http://localhost:58053/",
      "text/html": "Displaying chart at <a href='http://localhost:58053/' target='_blank'>http://localhost:58053/</a>"
     },
     "execution_count": 28,
     "metadata": {},
     "output_type": "execute_result"
    }
   ],
   "source": [
    "alt.Chart(movies_data, height=400, width=600)\\\n",
    "    .mark_rect()\\\n",
    "    .encode(alt.X('Production_Budget', bin=True),\n",
    "            alt.Y('Worldwide_Gross', bin=True),\n",
    "            color='average(Rotten_Tomatoes_Rating)')\n"
   ],
   "metadata": {
    "collapsed": false,
    "pycharm": {
     "name": "#%%\n"
    }
   }
  }
 ],
 "metadata": {
  "kernelspec": {
   "display_name": "Python 3",
   "language": "python",
   "name": "python3"
  },
  "language_info": {
   "codemirror_mode": {
    "name": "ipython",
    "version": 2
   },
   "file_extension": ".py",
   "mimetype": "text/x-python",
   "name": "python",
   "nbconvert_exporter": "python",
   "pygments_lexer": "ipython2",
   "version": "2.7.6"
  }
 },
 "nbformat": 4,
 "nbformat_minor": 0
}