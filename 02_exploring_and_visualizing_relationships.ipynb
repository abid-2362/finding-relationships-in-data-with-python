{
 "cells": [
  {
   "cell_type": "code",
   "execution_count": 3,
   "outputs": [],
   "source": [
    "import matplotlib\n",
    "import pandas as pd\n",
    "import matplotlib.pyplot as plt\n"
   ],
   "metadata": {
    "collapsed": false,
    "pycharm": {
     "name": "#%%\n"
    }
   }
  },
  {
   "cell_type": "code",
   "execution_count": 4,
   "outputs": [
    {
     "data": {
      "text/plain": "   U.S. Crude Oil   Alabama  Alaska  Arkansas  California  Colorado  Mexico  \\\n0             5138       21     655        17         583        82    1326   \n1             5177       21     640        17         586        81    1372   \n2             5003       21     544        17         588        82    1272   \n3             3974       21     681        16         587        88     242   \n4             4738       21     716        17         586        86     803   \n\n   Pacific  Florida  Idaho  ...  Pennsylvania  South Dakota  Wyoming  \\\n0       67        5      0  ...             8             5      144   \n1       61        6      0  ...             8             5      145   \n2       70        5      0  ...             8             5      145   \n3       67        5      0  ...             8             5      144   \n4       66        6      0  ...             8             5      145   \n\n   West Virginia  Utah  Texas  Tennessee        Date  Year  Month  \n0              6    60   1097          1  2008-06-01  2008      6  \n1              5    61   1111          1  2008-07-01  2008      7  \n2              6    62   1110          1  2008-08-01  2008      8  \n3              6    63   1055          1  2008-09-01  2008      9  \n4              6    64   1125          1  2008-10-01  2008     10  \n\n[5 rows x 36 columns]",
      "text/html": "<div>\n<style scoped>\n    .dataframe tbody tr th:only-of-type {\n        vertical-align: middle;\n    }\n\n    .dataframe tbody tr th {\n        vertical-align: top;\n    }\n\n    .dataframe thead th {\n        text-align: right;\n    }\n</style>\n<table border=\"1\" class=\"dataframe\">\n  <thead>\n    <tr style=\"text-align: right;\">\n      <th></th>\n      <th>U.S. Crude Oil</th>\n      <th>Alabama</th>\n      <th>Alaska</th>\n      <th>Arkansas</th>\n      <th>California</th>\n      <th>Colorado</th>\n      <th>Mexico</th>\n      <th>Pacific</th>\n      <th>Florida</th>\n      <th>Idaho</th>\n      <th>...</th>\n      <th>Pennsylvania</th>\n      <th>South Dakota</th>\n      <th>Wyoming</th>\n      <th>West Virginia</th>\n      <th>Utah</th>\n      <th>Texas</th>\n      <th>Tennessee</th>\n      <th>Date</th>\n      <th>Year</th>\n      <th>Month</th>\n    </tr>\n  </thead>\n  <tbody>\n    <tr>\n      <th>0</th>\n      <td>5138</td>\n      <td>21</td>\n      <td>655</td>\n      <td>17</td>\n      <td>583</td>\n      <td>82</td>\n      <td>1326</td>\n      <td>67</td>\n      <td>5</td>\n      <td>0</td>\n      <td>...</td>\n      <td>8</td>\n      <td>5</td>\n      <td>144</td>\n      <td>6</td>\n      <td>60</td>\n      <td>1097</td>\n      <td>1</td>\n      <td>2008-06-01</td>\n      <td>2008</td>\n      <td>6</td>\n    </tr>\n    <tr>\n      <th>1</th>\n      <td>5177</td>\n      <td>21</td>\n      <td>640</td>\n      <td>17</td>\n      <td>586</td>\n      <td>81</td>\n      <td>1372</td>\n      <td>61</td>\n      <td>6</td>\n      <td>0</td>\n      <td>...</td>\n      <td>8</td>\n      <td>5</td>\n      <td>145</td>\n      <td>5</td>\n      <td>61</td>\n      <td>1111</td>\n      <td>1</td>\n      <td>2008-07-01</td>\n      <td>2008</td>\n      <td>7</td>\n    </tr>\n    <tr>\n      <th>2</th>\n      <td>5003</td>\n      <td>21</td>\n      <td>544</td>\n      <td>17</td>\n      <td>588</td>\n      <td>82</td>\n      <td>1272</td>\n      <td>70</td>\n      <td>5</td>\n      <td>0</td>\n      <td>...</td>\n      <td>8</td>\n      <td>5</td>\n      <td>145</td>\n      <td>6</td>\n      <td>62</td>\n      <td>1110</td>\n      <td>1</td>\n      <td>2008-08-01</td>\n      <td>2008</td>\n      <td>8</td>\n    </tr>\n    <tr>\n      <th>3</th>\n      <td>3974</td>\n      <td>21</td>\n      <td>681</td>\n      <td>16</td>\n      <td>587</td>\n      <td>88</td>\n      <td>242</td>\n      <td>67</td>\n      <td>5</td>\n      <td>0</td>\n      <td>...</td>\n      <td>8</td>\n      <td>5</td>\n      <td>144</td>\n      <td>6</td>\n      <td>63</td>\n      <td>1055</td>\n      <td>1</td>\n      <td>2008-09-01</td>\n      <td>2008</td>\n      <td>9</td>\n    </tr>\n    <tr>\n      <th>4</th>\n      <td>4738</td>\n      <td>21</td>\n      <td>716</td>\n      <td>17</td>\n      <td>586</td>\n      <td>86</td>\n      <td>803</td>\n      <td>66</td>\n      <td>6</td>\n      <td>0</td>\n      <td>...</td>\n      <td>8</td>\n      <td>5</td>\n      <td>145</td>\n      <td>6</td>\n      <td>64</td>\n      <td>1125</td>\n      <td>1</td>\n      <td>2008-10-01</td>\n      <td>2008</td>\n      <td>10</td>\n    </tr>\n  </tbody>\n</table>\n<p>5 rows × 36 columns</p>\n</div>"
     },
     "execution_count": 4,
     "metadata": {},
     "output_type": "execute_result"
    }
   ],
   "source": [
    "crude_oil_data = pd.read_csv('data/crude_oil_data_processed.csv')\n",
    "crude_oil_data.head()\n"
   ],
   "metadata": {
    "collapsed": false,
    "pycharm": {
     "name": "#%%\n"
    }
   }
  }
 ],
 "metadata": {
  "kernelspec": {
   "display_name": "Python 3",
   "language": "python",
   "name": "python3"
  },
  "language_info": {
   "codemirror_mode": {
    "name": "ipython",
    "version": 2
   },
   "file_extension": ".py",
   "mimetype": "text/x-python",
   "name": "python",
   "nbconvert_exporter": "python",
   "pygments_lexer": "ipython2",
   "version": "2.7.6"
  }
 },
 "nbformat": 4,
 "nbformat_minor": 0
}