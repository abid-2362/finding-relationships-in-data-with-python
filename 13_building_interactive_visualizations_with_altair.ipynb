{
 "cells": [
  {
   "cell_type": "markdown",
   "metadata": {
    "pycharm": {
     "name": "#%% md\n"
    }
   },
   "source": [
    "# Building Interactive Visualization With Altair\n",
    "\n",
    "**Abid Ali**\n",
    "\n",
    "Email: [abdsoftfsd@gmail.com](mailto:abdsoftfsd@gmail.com)\n",
    "\n",
    "Skype: abd.soft\n"
   ]
  },
  {
   "cell_type": "markdown",
   "source": [
    "<div style=\"background-color:red; padding: 10px 30px;\"><h1 style=\"text-align:center; color:white\">Important Note</h1></div>\n",
    "<p style=\"color:red\">Altair charts will be displayed if you download this notebook and run it in the PyCharm or local server notebooks. Given localhost url for charts will not work on kaggle</p>\n",
    "\n",
    "<p>if you are interested in a workaround to get the altair working on kallge try exploring these notebooks</p>\n",
    "\n",
    "\n",
    "[https://www.kaggle.com/code/notslush/altair-visualization-2018-stackoverflow-survey/notebook](https://www.kaggle.com/code/notslush/altair-visualization-2018-stackoverflow-survey/notebook)\n",
    "\n",
    "[https://www.kaggle.com/code/apnanaam08/investigation-of-crimes-in-ny-using-altair-library/notebook](https://www.kaggle.com/code/apnanaam08/investigation-of-crimes-in-ny-using-altair-library/notebook)"
   ],
   "metadata": {
    "collapsed": false,
    "pycharm": {
     "name": "#%% md\n"
    }
   }
  },
  {
   "cell_type": "code",
   "execution_count": 25,
   "outputs": [
    {
     "name": "stdout",
     "output_type": "stream",
     "text": [
      "Requirement already satisfied: altair in c:\\users\\hp\\anaconda3\\lib\\site-packages (4.2.2)\n",
      "Requirement already satisfied: vega_datasets in c:\\users\\hp\\anaconda3\\lib\\site-packages (0.9.0)\n",
      "Requirement already satisfied: notebook in c:\\users\\hp\\anaconda3\\lib\\site-packages (6.4.5)\n",
      "Requirement already satisfied: vega in c:\\users\\hp\\anaconda3\\lib\\site-packages (3.6.0)\n",
      "Requirement already satisfied: altair_viewer in c:\\users\\hp\\anaconda3\\lib\\site-packages (0.4.0)\n",
      "Requirement already satisfied: numpy in c:\\users\\hp\\anaconda3\\lib\\site-packages (from altair) (1.20.3)\n",
      "Requirement already satisfied: entrypoints in c:\\users\\hp\\anaconda3\\lib\\site-packages (from altair) (0.3)\n",
      "Requirement already satisfied: jsonschema>=3.0 in c:\\users\\hp\\anaconda3\\lib\\site-packages (from altair) (3.2.0)\n",
      "Requirement already satisfied: jinja2 in c:\\users\\hp\\anaconda3\\lib\\site-packages (from altair) (2.11.3)\n",
      "Requirement already satisfied: toolz in c:\\users\\hp\\anaconda3\\lib\\site-packages (from altair) (0.11.1)\n",
      "Requirement already satisfied: pandas>=0.18 in c:\\users\\hp\\anaconda3\\lib\\site-packages (from altair) (1.3.4)\n",
      "Requirement already satisfied: pyzmq>=17 in c:\\users\\hp\\anaconda3\\lib\\site-packages (from notebook) (22.2.1)\n",
      "Requirement already satisfied: ipython-genutils in c:\\users\\hp\\anaconda3\\lib\\site-packages (from notebook) (0.2.0)\n",
      "Requirement already satisfied: prometheus-client in c:\\users\\hp\\anaconda3\\lib\\site-packages (from notebook) (0.11.0)\n",
      "Requirement already satisfied: argon2-cffi in c:\\users\\hp\\anaconda3\\lib\\site-packages (from notebook) (20.1.0)\n",
      "Requirement already satisfied: nbconvert in c:\\users\\hp\\anaconda3\\lib\\site-packages (from notebook) (6.1.0)\n",
      "Requirement already satisfied: traitlets>=4.2.1 in c:\\users\\hp\\anaconda3\\lib\\site-packages (from notebook) (5.1.0)\n",
      "Requirement already satisfied: jupyter-core>=4.6.1 in c:\\users\\hp\\anaconda3\\lib\\site-packages (from notebook) (4.8.1)\n",
      "Requirement already satisfied: tornado>=6.1 in c:\\users\\hp\\anaconda3\\lib\\site-packages (from notebook) (6.1)\n",
      "Requirement already satisfied: jupyter-client>=5.3.4 in c:\\users\\hp\\anaconda3\\lib\\site-packages (from notebook) (6.1.12)\n",
      "Requirement already satisfied: nbformat in c:\\users\\hp\\anaconda3\\lib\\site-packages (from notebook) (5.1.3)\n",
      "Requirement already satisfied: ipykernel in c:\\users\\hp\\anaconda3\\lib\\site-packages (from notebook) (6.4.1)\n",
      "Requirement already satisfied: terminado>=0.8.3 in c:\\users\\hp\\anaconda3\\lib\\site-packages (from notebook) (0.9.4)\n",
      "Requirement already satisfied: Send2Trash>=1.5.0 in c:\\users\\hp\\anaconda3\\lib\\site-packages (from notebook) (1.8.0)\n",
      "Requirement already satisfied: jupyter<2.0.0,>=1.0.0 in c:\\users\\hp\\anaconda3\\lib\\site-packages (from vega) (1.0.0)\n",
      "Requirement already satisfied: altair-data-server>=0.4.0 in c:\\users\\hp\\anaconda3\\lib\\site-packages (from altair_viewer) (0.4.1)\n",
      "Requirement already satisfied: portpicker in c:\\users\\hp\\anaconda3\\lib\\site-packages (from altair-data-server>=0.4.0->altair_viewer) (1.5.2)\n",
      "Requirement already satisfied: pyrsistent>=0.14.0 in c:\\users\\hp\\anaconda3\\lib\\site-packages (from jsonschema>=3.0->altair) (0.18.0)\n",
      "Requirement already satisfied: six>=1.11.0 in c:\\users\\hp\\anaconda3\\lib\\site-packages (from jsonschema>=3.0->altair) (1.16.0)\n",
      "Requirement already satisfied: attrs>=17.4.0 in c:\\users\\hp\\anaconda3\\lib\\site-packages (from jsonschema>=3.0->altair) (21.2.0)\n",
      "Requirement already satisfied: setuptools in c:\\users\\hp\\anaconda3\\lib\\site-packages (from jsonschema>=3.0->altair) (58.0.4)\n",
      "Requirement already satisfied: ipywidgets in c:\\users\\hp\\anaconda3\\lib\\site-packages (from jupyter<2.0.0,>=1.0.0->vega) (7.6.5)\n",
      "Requirement already satisfied: jupyter-console in c:\\users\\hp\\anaconda3\\lib\\site-packages (from jupyter<2.0.0,>=1.0.0->vega) (6.4.0)\n",
      "Requirement already satisfied: qtconsole in c:\\users\\hp\\anaconda3\\lib\\site-packages (from jupyter<2.0.0,>=1.0.0->vega) (5.1.1)\n",
      "Requirement already satisfied: python-dateutil>=2.1 in c:\\users\\hp\\anaconda3\\lib\\site-packages (from jupyter-client>=5.3.4->notebook) (2.8.2)\n",
      "Requirement already satisfied: pywin32>=1.0 in c:\\users\\hp\\anaconda3\\lib\\site-packages (from jupyter-core>=4.6.1->notebook) (228)\n",
      "Requirement already satisfied: pytz>=2017.3 in c:\\users\\hp\\anaconda3\\lib\\site-packages (from pandas>=0.18->altair) (2021.3)\n",
      "Requirement already satisfied: pywinpty>=0.5 in c:\\users\\hp\\anaconda3\\lib\\site-packages (from terminado>=0.8.3->notebook) (0.5.7)\n",
      "Requirement already satisfied: cffi>=1.0.0 in c:\\users\\hp\\anaconda3\\lib\\site-packages (from argon2-cffi->notebook) (1.14.6)\n",
      "Requirement already satisfied: pycparser in c:\\users\\hp\\anaconda3\\lib\\site-packages (from cffi>=1.0.0->argon2-cffi->notebook) (2.20)\n",
      "Requirement already satisfied: matplotlib-inline<0.2.0,>=0.1.0 in c:\\users\\hp\\anaconda3\\lib\\site-packages (from ipykernel->notebook) (0.1.2)\n",
      "Requirement already satisfied: ipython<8.0,>=7.23.1 in c:\\users\\hp\\anaconda3\\lib\\site-packages (from ipykernel->notebook) (7.29.0)\n",
      "Requirement already satisfied: debugpy<2.0,>=1.0.0 in c:\\users\\hp\\anaconda3\\lib\\site-packages (from ipykernel->notebook) (1.4.1)\n",
      "Requirement already satisfied: pickleshare in c:\\users\\hp\\anaconda3\\lib\\site-packages (from ipython<8.0,>=7.23.1->ipykernel->notebook) (0.7.5)\n",
      "Requirement already satisfied: decorator in c:\\users\\hp\\anaconda3\\lib\\site-packages (from ipython<8.0,>=7.23.1->ipykernel->notebook) (5.1.0)\n",
      "Requirement already satisfied: pygments in c:\\users\\hp\\anaconda3\\lib\\site-packages (from ipython<8.0,>=7.23.1->ipykernel->notebook) (2.10.0)\n",
      "Requirement already satisfied: colorama in c:\\users\\hp\\anaconda3\\lib\\site-packages (from ipython<8.0,>=7.23.1->ipykernel->notebook) (0.4.4)\n",
      "Requirement already satisfied: prompt-toolkit!=3.0.0,!=3.0.1,<3.1.0,>=2.0.0 in c:\\users\\hp\\anaconda3\\lib\\site-packages (from ipython<8.0,>=7.23.1->ipykernel->notebook) (3.0.20)\n",
      "Requirement already satisfied: jedi>=0.16 in c:\\users\\hp\\anaconda3\\lib\\site-packages (from ipython<8.0,>=7.23.1->ipykernel->notebook) (0.18.0)\n",
      "Requirement already satisfied: backcall in c:\\users\\hp\\anaconda3\\lib\\site-packages (from ipython<8.0,>=7.23.1->ipykernel->notebook) (0.2.0)\n",
      "Requirement already satisfied: parso<0.9.0,>=0.8.0 in c:\\users\\hp\\anaconda3\\lib\\site-packages (from jedi>=0.16->ipython<8.0,>=7.23.1->ipykernel->notebook) (0.8.2)\n",
      "Requirement already satisfied: wcwidth in c:\\users\\hp\\anaconda3\\lib\\site-packages (from prompt-toolkit!=3.0.0,!=3.0.1,<3.1.0,>=2.0.0->ipython<8.0,>=7.23.1->ipykernel->notebook) (0.2.5)\n",
      "Requirement already satisfied: widgetsnbextension~=3.5.0 in c:\\users\\hp\\anaconda3\\lib\\site-packages (from ipywidgets->jupyter<2.0.0,>=1.0.0->vega) (3.5.1)\n",
      "Requirement already satisfied: jupyterlab-widgets>=1.0.0 in c:\\users\\hp\\anaconda3\\lib\\site-packages (from ipywidgets->jupyter<2.0.0,>=1.0.0->vega) (1.0.0)\n",
      "Requirement already satisfied: MarkupSafe>=0.23 in c:\\users\\hp\\anaconda3\\lib\\site-packages (from jinja2->altair) (1.1.1)\n",
      "Requirement already satisfied: defusedxml in c:\\users\\hp\\anaconda3\\lib\\site-packages (from nbconvert->notebook) (0.7.1)\n",
      "Requirement already satisfied: mistune<2,>=0.8.1 in c:\\users\\hp\\anaconda3\\lib\\site-packages (from nbconvert->notebook) (0.8.4)\n",
      "Requirement already satisfied: bleach in c:\\users\\hp\\anaconda3\\lib\\site-packages (from nbconvert->notebook) (4.0.0)\n",
      "Requirement already satisfied: testpath in c:\\users\\hp\\anaconda3\\lib\\site-packages (from nbconvert->notebook) (0.5.0)\n",
      "Requirement already satisfied: pandocfilters>=1.4.1 in c:\\users\\hp\\anaconda3\\lib\\site-packages (from nbconvert->notebook) (1.4.3)\n",
      "Requirement already satisfied: nbclient<0.6.0,>=0.5.0 in c:\\users\\hp\\anaconda3\\lib\\site-packages (from nbconvert->notebook) (0.5.3)\n",
      "Requirement already satisfied: jupyterlab-pygments in c:\\users\\hp\\anaconda3\\lib\\site-packages (from nbconvert->notebook) (0.1.2)\n",
      "Requirement already satisfied: async-generator in c:\\users\\hp\\anaconda3\\lib\\site-packages (from nbclient<0.6.0,>=0.5.0->nbconvert->notebook) (1.10)\n",
      "Requirement already satisfied: nest-asyncio in c:\\users\\hp\\anaconda3\\lib\\site-packages (from nbclient<0.6.0,>=0.5.0->nbconvert->notebook) (1.5.1)\n",
      "Requirement already satisfied: packaging in c:\\users\\hp\\anaconda3\\lib\\site-packages (from bleach->nbconvert->notebook) (21.0)\n",
      "Requirement already satisfied: webencodings in c:\\users\\hp\\anaconda3\\lib\\site-packages (from bleach->nbconvert->notebook) (0.5.1)\n",
      "Requirement already satisfied: pyparsing>=2.0.2 in c:\\users\\hp\\anaconda3\\lib\\site-packages (from packaging->bleach->nbconvert->notebook) (3.0.4)\n"
     ]
    }
   ],
   "source": [
    "#!pip install -U altair vega_datasets notebook vega\n",
    "!pip install altair vega_datasets notebook vega altair_viewer"
   ],
   "metadata": {
    "collapsed": false,
    "pycharm": {
     "name": "#%%\n"
    }
   }
  },
  {
   "cell_type": "code",
   "execution_count": 12,
   "metadata": {
    "pycharm": {
     "name": "#%%\n"
    }
   },
   "outputs": [
    {
     "data": {
      "text/plain": "RendererRegistry.enable('altair_viewer')"
     },
     "execution_count": 12,
     "metadata": {},
     "output_type": "execute_result"
    }
   ],
   "source": [
    "import pandas as pd\n",
    "import altair as alt\n",
    "from vega_datasets import data\n",
    "\n",
    "alt.renderers.enable('notebook')\n",
    "alt.renderers.enable('altair_viewer')"
   ]
  },
  {
   "cell_type": "code",
   "execution_count": 13,
   "metadata": {
    "pycharm": {
     "name": "#%%\n"
    }
   },
   "outputs": [],
   "source": [
    "weather_data = data.seattle_weather()\n"
   ]
  },
  {
   "cell_type": "code",
   "execution_count": 14,
   "metadata": {
    "pycharm": {
     "name": "#%%\n"
    }
   },
   "outputs": [
    {
     "data": {
      "text/plain": "        date  precipitation  temp_max  temp_min  wind  weather\n0 2012-01-01            0.0      12.8       5.0   4.7  drizzle\n1 2012-01-02           10.9      10.6       2.8   4.5     rain\n2 2012-01-03            0.8      11.7       7.2   2.3     rain\n3 2012-01-04           20.3      12.2       5.6   4.7     rain\n4 2012-01-05            1.3       8.9       2.8   6.1     rain",
      "text/html": "<div>\n<style scoped>\n    .dataframe tbody tr th:only-of-type {\n        vertical-align: middle;\n    }\n\n    .dataframe tbody tr th {\n        vertical-align: top;\n    }\n\n    .dataframe thead th {\n        text-align: right;\n    }\n</style>\n<table border=\"1\" class=\"dataframe\">\n  <thead>\n    <tr style=\"text-align: right;\">\n      <th></th>\n      <th>date</th>\n      <th>precipitation</th>\n      <th>temp_max</th>\n      <th>temp_min</th>\n      <th>wind</th>\n      <th>weather</th>\n    </tr>\n  </thead>\n  <tbody>\n    <tr>\n      <th>0</th>\n      <td>2012-01-01</td>\n      <td>0.0</td>\n      <td>12.8</td>\n      <td>5.0</td>\n      <td>4.7</td>\n      <td>drizzle</td>\n    </tr>\n    <tr>\n      <th>1</th>\n      <td>2012-01-02</td>\n      <td>10.9</td>\n      <td>10.6</td>\n      <td>2.8</td>\n      <td>4.5</td>\n      <td>rain</td>\n    </tr>\n    <tr>\n      <th>2</th>\n      <td>2012-01-03</td>\n      <td>0.8</td>\n      <td>11.7</td>\n      <td>7.2</td>\n      <td>2.3</td>\n      <td>rain</td>\n    </tr>\n    <tr>\n      <th>3</th>\n      <td>2012-01-04</td>\n      <td>20.3</td>\n      <td>12.2</td>\n      <td>5.6</td>\n      <td>4.7</td>\n      <td>rain</td>\n    </tr>\n    <tr>\n      <th>4</th>\n      <td>2012-01-05</td>\n      <td>1.3</td>\n      <td>8.9</td>\n      <td>2.8</td>\n      <td>6.1</td>\n      <td>rain</td>\n    </tr>\n  </tbody>\n</table>\n</div>"
     },
     "execution_count": 14,
     "metadata": {},
     "output_type": "execute_result"
    }
   ],
   "source": [
    "weather_data.head()\n"
   ]
  },
  {
   "cell_type": "code",
   "execution_count": 15,
   "metadata": {
    "pycharm": {
     "name": "#%%\n"
    }
   },
   "outputs": [
    {
     "data": {
      "text/plain": "date             datetime64[ns]\nprecipitation           float64\ntemp_max                float64\ntemp_min                float64\nwind                    float64\nweather                  object\ndtype: object"
     },
     "execution_count": 15,
     "metadata": {},
     "output_type": "execute_result"
    }
   ],
   "source": [
    "weather_data.dtypes\n"
   ]
  },
  {
   "cell_type": "code",
   "execution_count": 16,
   "metadata": {
    "pycharm": {
     "name": "#%%\n"
    }
   },
   "outputs": [],
   "source": [
    "weather_data['year'] = weather_data['date'].dt.year\n",
    "weather_data['month'] = weather_data['date'].dt.month\n",
    "weather_data['day'] = weather_data['date'].dt.day\n",
    "\n",
    "weather_data.drop('date', axis=1, inplace=True)\n"
   ]
  },
  {
   "cell_type": "code",
   "execution_count": 17,
   "metadata": {
    "pycharm": {
     "name": "#%%\n"
    }
   },
   "outputs": [
    {
     "data": {
      "text/plain": "   precipitation  temp_max  temp_min  wind  weather  year  month  day\n0            0.0      12.8       5.0   4.7  drizzle  2012      1    1\n1           10.9      10.6       2.8   4.5     rain  2012      1    2\n2            0.8      11.7       7.2   2.3     rain  2012      1    3\n3           20.3      12.2       5.6   4.7     rain  2012      1    4\n4            1.3       8.9       2.8   6.1     rain  2012      1    5\n5            2.5       4.4       2.2   2.2     rain  2012      1    6\n6            0.0       7.2       2.8   2.3     rain  2012      1    7\n7            0.0      10.0       2.8   2.0      sun  2012      1    8\n8            4.3       9.4       5.0   3.4     rain  2012      1    9\n9            1.0       6.1       0.6   3.4     rain  2012      1   10",
      "text/html": "<div>\n<style scoped>\n    .dataframe tbody tr th:only-of-type {\n        vertical-align: middle;\n    }\n\n    .dataframe tbody tr th {\n        vertical-align: top;\n    }\n\n    .dataframe thead th {\n        text-align: right;\n    }\n</style>\n<table border=\"1\" class=\"dataframe\">\n  <thead>\n    <tr style=\"text-align: right;\">\n      <th></th>\n      <th>precipitation</th>\n      <th>temp_max</th>\n      <th>temp_min</th>\n      <th>wind</th>\n      <th>weather</th>\n      <th>year</th>\n      <th>month</th>\n      <th>day</th>\n    </tr>\n  </thead>\n  <tbody>\n    <tr>\n      <th>0</th>\n      <td>0.0</td>\n      <td>12.8</td>\n      <td>5.0</td>\n      <td>4.7</td>\n      <td>drizzle</td>\n      <td>2012</td>\n      <td>1</td>\n      <td>1</td>\n    </tr>\n    <tr>\n      <th>1</th>\n      <td>10.9</td>\n      <td>10.6</td>\n      <td>2.8</td>\n      <td>4.5</td>\n      <td>rain</td>\n      <td>2012</td>\n      <td>1</td>\n      <td>2</td>\n    </tr>\n    <tr>\n      <th>2</th>\n      <td>0.8</td>\n      <td>11.7</td>\n      <td>7.2</td>\n      <td>2.3</td>\n      <td>rain</td>\n      <td>2012</td>\n      <td>1</td>\n      <td>3</td>\n    </tr>\n    <tr>\n      <th>3</th>\n      <td>20.3</td>\n      <td>12.2</td>\n      <td>5.6</td>\n      <td>4.7</td>\n      <td>rain</td>\n      <td>2012</td>\n      <td>1</td>\n      <td>4</td>\n    </tr>\n    <tr>\n      <th>4</th>\n      <td>1.3</td>\n      <td>8.9</td>\n      <td>2.8</td>\n      <td>6.1</td>\n      <td>rain</td>\n      <td>2012</td>\n      <td>1</td>\n      <td>5</td>\n    </tr>\n    <tr>\n      <th>5</th>\n      <td>2.5</td>\n      <td>4.4</td>\n      <td>2.2</td>\n      <td>2.2</td>\n      <td>rain</td>\n      <td>2012</td>\n      <td>1</td>\n      <td>6</td>\n    </tr>\n    <tr>\n      <th>6</th>\n      <td>0.0</td>\n      <td>7.2</td>\n      <td>2.8</td>\n      <td>2.3</td>\n      <td>rain</td>\n      <td>2012</td>\n      <td>1</td>\n      <td>7</td>\n    </tr>\n    <tr>\n      <th>7</th>\n      <td>0.0</td>\n      <td>10.0</td>\n      <td>2.8</td>\n      <td>2.0</td>\n      <td>sun</td>\n      <td>2012</td>\n      <td>1</td>\n      <td>8</td>\n    </tr>\n    <tr>\n      <th>8</th>\n      <td>4.3</td>\n      <td>9.4</td>\n      <td>5.0</td>\n      <td>3.4</td>\n      <td>rain</td>\n      <td>2012</td>\n      <td>1</td>\n      <td>9</td>\n    </tr>\n    <tr>\n      <th>9</th>\n      <td>1.0</td>\n      <td>6.1</td>\n      <td>0.6</td>\n      <td>3.4</td>\n      <td>rain</td>\n      <td>2012</td>\n      <td>1</td>\n      <td>10</td>\n    </tr>\n  </tbody>\n</table>\n</div>"
     },
     "execution_count": 17,
     "metadata": {},
     "output_type": "execute_result"
    }
   ],
   "source": [
    "weather_data.head(10)\n"
   ]
  },
  {
   "cell_type": "code",
   "execution_count": 18,
   "metadata": {
    "pycharm": {
     "name": "#%%\n"
    }
   },
   "outputs": [
    {
     "data": {
      "text/plain": "       precipitation     temp_max     temp_min         wind         year  \\\ncount    1461.000000  1461.000000  1461.000000  1461.000000  1461.000000   \nmean        3.029432    16.439083     8.234771     3.241136  2013.498973   \nstd         6.680194     7.349758     5.023004     1.437825     1.118723   \nmin         0.000000    -1.600000    -7.100000     0.400000  2012.000000   \n25%         0.000000    10.600000     4.400000     2.200000  2012.000000   \n50%         0.000000    15.600000     8.300000     3.000000  2013.000000   \n75%         2.800000    22.200000    12.200000     4.000000  2014.000000   \nmax        55.900000    35.600000    18.300000     9.500000  2015.000000   \n\n             month          day  \ncount  1461.000000  1461.000000  \nmean      6.522930    15.729637  \nstd       3.449884     8.803105  \nmin       1.000000     1.000000  \n25%       4.000000     8.000000  \n50%       7.000000    16.000000  \n75%      10.000000    23.000000  \nmax      12.000000    31.000000  ",
      "text/html": "<div>\n<style scoped>\n    .dataframe tbody tr th:only-of-type {\n        vertical-align: middle;\n    }\n\n    .dataframe tbody tr th {\n        vertical-align: top;\n    }\n\n    .dataframe thead th {\n        text-align: right;\n    }\n</style>\n<table border=\"1\" class=\"dataframe\">\n  <thead>\n    <tr style=\"text-align: right;\">\n      <th></th>\n      <th>precipitation</th>\n      <th>temp_max</th>\n      <th>temp_min</th>\n      <th>wind</th>\n      <th>year</th>\n      <th>month</th>\n      <th>day</th>\n    </tr>\n  </thead>\n  <tbody>\n    <tr>\n      <th>count</th>\n      <td>1461.000000</td>\n      <td>1461.000000</td>\n      <td>1461.000000</td>\n      <td>1461.000000</td>\n      <td>1461.000000</td>\n      <td>1461.000000</td>\n      <td>1461.000000</td>\n    </tr>\n    <tr>\n      <th>mean</th>\n      <td>3.029432</td>\n      <td>16.439083</td>\n      <td>8.234771</td>\n      <td>3.241136</td>\n      <td>2013.498973</td>\n      <td>6.522930</td>\n      <td>15.729637</td>\n    </tr>\n    <tr>\n      <th>std</th>\n      <td>6.680194</td>\n      <td>7.349758</td>\n      <td>5.023004</td>\n      <td>1.437825</td>\n      <td>1.118723</td>\n      <td>3.449884</td>\n      <td>8.803105</td>\n    </tr>\n    <tr>\n      <th>min</th>\n      <td>0.000000</td>\n      <td>-1.600000</td>\n      <td>-7.100000</td>\n      <td>0.400000</td>\n      <td>2012.000000</td>\n      <td>1.000000</td>\n      <td>1.000000</td>\n    </tr>\n    <tr>\n      <th>25%</th>\n      <td>0.000000</td>\n      <td>10.600000</td>\n      <td>4.400000</td>\n      <td>2.200000</td>\n      <td>2012.000000</td>\n      <td>4.000000</td>\n      <td>8.000000</td>\n    </tr>\n    <tr>\n      <th>50%</th>\n      <td>0.000000</td>\n      <td>15.600000</td>\n      <td>8.300000</td>\n      <td>3.000000</td>\n      <td>2013.000000</td>\n      <td>7.000000</td>\n      <td>16.000000</td>\n    </tr>\n    <tr>\n      <th>75%</th>\n      <td>2.800000</td>\n      <td>22.200000</td>\n      <td>12.200000</td>\n      <td>4.000000</td>\n      <td>2014.000000</td>\n      <td>10.000000</td>\n      <td>23.000000</td>\n    </tr>\n    <tr>\n      <th>max</th>\n      <td>55.900000</td>\n      <td>35.600000</td>\n      <td>18.300000</td>\n      <td>9.500000</td>\n      <td>2015.000000</td>\n      <td>12.000000</td>\n      <td>31.000000</td>\n    </tr>\n  </tbody>\n</table>\n</div>"
     },
     "execution_count": 18,
     "metadata": {},
     "output_type": "execute_result"
    }
   ],
   "source": [
    "weather_data.describe()\n"
   ]
  },
  {
   "cell_type": "code",
   "execution_count": 19,
   "metadata": {
    "pycharm": {
     "name": "#%%\n"
    }
   },
   "outputs": [
    {
     "data": {
      "text/plain": "Displaying chart at http://localhost:58568/",
      "text/html": "Displaying chart at <a href='http://localhost:58568/' target='_blank'>http://localhost:58568/</a>"
     },
     "execution_count": 19,
     "metadata": {},
     "output_type": "execute_result"
    }
   ],
   "source": [
    "alt.Chart(weather_data, height=500, width=700)\\\n",
    "    .mark_point()\\\n",
    "    .encode(x='temp_max:Q',\n",
    "            y='wind:Q',\n",
    "            color='weather:N',\n",
    "            tooltip=['wind', 'temp_max', 'weather'])\\\n",
    "    .interactive()\n"
   ]
  },
  {
   "cell_type": "code",
   "execution_count": 20,
   "metadata": {
    "pycharm": {
     "name": "#%%\n"
    }
   },
   "outputs": [
    {
     "data": {
      "text/plain": "Displaying chart at http://localhost:58568/",
      "text/html": "Displaying chart at <a href='http://localhost:58568/' target='_blank'>http://localhost:58568/</a>"
     },
     "execution_count": 20,
     "metadata": {},
     "output_type": "execute_result"
    }
   ],
   "source": [
    "brush = alt.selection(type='interval', encodings=['x'])\n",
    "\n",
    "bars = alt.Chart(height=400, width=600)\\\n",
    "    .mark_bar(color='limegreen')\\\n",
    "    .encode(x='month:O',\n",
    "            y='mean(temp_max):Q',\n",
    "            opacity=alt.condition(brush,\n",
    "                                  alt.OpacityValue(1),\n",
    "                                  alt.OpacityValue(0.5))\n",
    "            )\\\n",
    "    .add_selection(brush)\n",
    "\n",
    "line = alt.Chart()\\\n",
    ".mark_rule(color='red')\\\n",
    "    .encode(y='mean(temp_max):Q',\n",
    "        size=alt.SizeValue(5))\\\n",
    ".transform_filter(brush)\n",
    "\n",
    "alt.layer(bars, line, data=weather_data)"
   ]
  },
  {
   "cell_type": "code",
   "execution_count": 21,
   "metadata": {
    "pycharm": {
     "name": "#%%\n"
    }
   },
   "outputs": [
    {
     "data": {
      "text/plain": "Displaying chart at http://localhost:58568/",
      "text/html": "Displaying chart at <a href='http://localhost:58568/' target='_blank'>http://localhost:58568/</a>"
     },
     "execution_count": 21,
     "metadata": {},
     "output_type": "execute_result"
    }
   ],
   "source": [
    "chart = alt.Chart(weather_data, height=400, width=600)\\\n",
    ".mark_point()\\\n",
    ".encode(y='wind:Q',\n",
    "        color=alt.condition(brush, 'weather:N', alt.value('lightgray')))\\\n",
    ".properties(width=250, height=250)\\\n",
    ".add_selection(brush)\n",
    "\n",
    "chart.encode(x='precipitation:Q') | chart.encode(x='temp_max:Q')\n"
   ]
  },
  {
   "cell_type": "code",
   "execution_count": 23,
   "metadata": {
    "pycharm": {
     "name": "#%%\n"
    }
   },
   "outputs": [
    {
     "data": {
      "text/plain": "Displaying chart at http://localhost:58568/",
      "text/html": "Displaying chart at <a href='http://localhost:58568/' target='_blank'>http://localhost:58568/</a>"
     },
     "execution_count": 23,
     "metadata": {},
     "output_type": "execute_result"
    }
   ],
   "source": [
    "slider = alt.binding_range(min=2012, max=2015, step=1)\n",
    "\n",
    "select_year = alt.selection_single(\n",
    "    name='year', fields=['year'],\n",
    "    bind=slider, init={'year': 2012}\n",
    ")\n",
    "\n",
    "color = alt.Scale(\n",
    "    domain=('drizzle', 'rain', 'sun', 'snow', 'fog'),\n",
    "    range=['steelblue', 'yellow', 'red', 'green', 'violet']\n",
    ")\n",
    "\n",
    "alt.Chart(weather_data, height=400, width=600)\\\n",
    "    .mark_bar()\\\n",
    "    .encode(x=alt.X('weather:N', title=None),\n",
    "            y=alt.Y('temp_max:Q',\n",
    "                    scale=alt.Scale(domain=(0, 40))),\n",
    "            color=alt.Color('weather:N', scale=color),\n",
    "            column='month:O', tooltip=['temp_max','precipitation'])\\\n",
    "    .properties(width=50)\\\n",
    "    .add_selection(select_year)\\\n",
    "    .transform_filter(select_year)\\\n",
    "    .configure_facet(spacing=8)"
   ]
  },
  {
   "cell_type": "code",
   "execution_count": 22,
   "metadata": {
    "pycharm": {
     "name": "#%%\n"
    }
   },
   "outputs": [],
   "source": []
  }
 ],
 "metadata": {
  "kernelspec": {
   "display_name": "Python 3 (ipykernel)",
   "language": "python",
   "name": "python3"
  },
  "language_info": {
   "codemirror_mode": {
    "name": "ipython",
    "version": 3
   },
   "file_extension": ".py",
   "mimetype": "text/x-python",
   "name": "python",
   "nbconvert_exporter": "python",
   "pygments_lexer": "ipython3",
   "version": "3.9.7"
  }
 },
 "nbformat": 4,
 "nbformat_minor": 1
}